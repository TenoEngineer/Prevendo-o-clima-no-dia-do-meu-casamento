{
  "nbformat": 4,
  "nbformat_minor": 0,
  "metadata": {
    "colab": {
      "name": "PREVENDO TEMPERATURA NO DIA DO CASAMENTO EM MS",
      "provenance": [],
      "mount_file_id": "1sYns6WnT84QFQgeDTQXT9fiHRkpet9ri",
      "authorship_tag": "ABX9TyMXE+vkdw3+r5SRdn6UdAxP",
      "include_colab_link": true
    },
    "kernelspec": {
      "name": "python3",
      "display_name": "Python 3"
    },
    "language_info": {
      "name": "python"
    }
  },
  "cells": [
    {
      "cell_type": "markdown",
      "metadata": {
        "id": "view-in-github",
        "colab_type": "text"
      },
      "source": [
        "<a href=\"https://colab.research.google.com/github/TenoEngineer/Prevendo-o-clima-no-dia-do-meu-casamento/blob/main/PREVENDO_TEMPERATURA_NO_DIA_DO_CASAMENTO_EM_MS.ipynb\" target=\"_parent\"><img src=\"https://colab.research.google.com/assets/colab-badge.svg\" alt=\"Open In Colab\"/></a>"
      ]
    },
    {
      "cell_type": "markdown",
      "metadata": {
        "id": "tS2Fp1sGeA0O"
      },
      "source": [
        "# **PREVENDO TEMPERATURA NO DIA DO CASAMENTO EM MS**"
      ]
    },
    {
      "cell_type": "markdown",
      "metadata": {
        "id": "hY33VCY3eNJ5"
      },
      "source": [
        "Aqui será realizada um simples desenvolvimento de análise de dados para prever a temperatura do dia 10/10/2021 (dia do meu casamento) através dos dados disponíveis no site https://previsao.inmet.gov.br. Selecionei os últimos 9 anos para gerar uma análise preditiva."
      ]
    },
    {
      "cell_type": "markdown",
      "metadata": {
        "id": "JpMIKysTnau5"
      },
      "source": [
        "Manipularei os dados para obter somente os de Outubro. Realizarei médias, desvio padrão... somente o dia 10 e depois com a semana, gerando gráficos e predições."
      ]
    },
    {
      "cell_type": "markdown",
      "metadata": {
        "id": "Twe1rMSBnwh4"
      },
      "source": [
        "Sabe-se que o clima é algo extremamente instável. Mas através dos dados creio que seja possível gerar uma conclusão baseado nos dados."
      ]
    },
    {
      "cell_type": "markdown",
      "metadata": {
        "id": "P-BdFcM8gg_O"
      },
      "source": [
        "# Importação dos dados"
      ]
    },
    {
      "cell_type": "code",
      "metadata": {
        "colab": {
          "base_uri": "https://localhost:8080/",
          "height": 221
        },
        "id": "FaJgJFogd9Cs",
        "outputId": "56a522b0-726b-4f3a-d526-c4b0d44d4f0d"
      },
      "source": [
        "import pandas as pd\n",
        "clima = pd.read_csv('/content/drive/MyDrive/dados_A750_H_2012-01-01_2020-12-31.csv', sep=';')\n",
        "clima.head()"
      ],
      "execution_count": null,
      "outputs": [
        {
          "output_type": "execute_result",
          "data": {
            "text/html": [
              "<div>\n",
              "<style scoped>\n",
              "    .dataframe tbody tr th:only-of-type {\n",
              "        vertical-align: middle;\n",
              "    }\n",
              "\n",
              "    .dataframe tbody tr th {\n",
              "        vertical-align: top;\n",
              "    }\n",
              "\n",
              "    .dataframe thead th {\n",
              "        text-align: right;\n",
              "    }\n",
              "</style>\n",
              "<table border=\"1\" class=\"dataframe\">\n",
              "  <thead>\n",
              "    <tr style=\"text-align: right;\">\n",
              "      <th></th>\n",
              "      <th>Data Medicao</th>\n",
              "      <th>Hora Medicao</th>\n",
              "      <th>PRECIPITACAO TOTAL, HORARIO(mm)</th>\n",
              "      <th>TEMPERATURA DO AR - BULBO SECO, HORARIA(°C)</th>\n",
              "      <th>UMIDADE RELATIVA DO AR, HORARIA(%)</th>\n",
              "      <th>VENTO, VELOCIDADE HORARIA(m/s)</th>\n",
              "    </tr>\n",
              "  </thead>\n",
              "  <tbody>\n",
              "    <tr>\n",
              "      <th>0</th>\n",
              "      <td>01/01/2012</td>\n",
              "      <td>0</td>\n",
              "      <td>0.0</td>\n",
              "      <td>22.4</td>\n",
              "      <td>95.0</td>\n",
              "      <td>0.0</td>\n",
              "    </tr>\n",
              "    <tr>\n",
              "      <th>1</th>\n",
              "      <td>01/01/2012</td>\n",
              "      <td>100</td>\n",
              "      <td>0.0</td>\n",
              "      <td>21.7</td>\n",
              "      <td>96.0</td>\n",
              "      <td>0.0</td>\n",
              "    </tr>\n",
              "    <tr>\n",
              "      <th>2</th>\n",
              "      <td>01/01/2012</td>\n",
              "      <td>200</td>\n",
              "      <td>0.0</td>\n",
              "      <td>21.2</td>\n",
              "      <td>96.0</td>\n",
              "      <td>0.0</td>\n",
              "    </tr>\n",
              "    <tr>\n",
              "      <th>3</th>\n",
              "      <td>01/01/2012</td>\n",
              "      <td>300</td>\n",
              "      <td>0.0</td>\n",
              "      <td>21.0</td>\n",
              "      <td>96.0</td>\n",
              "      <td>0.0</td>\n",
              "    </tr>\n",
              "    <tr>\n",
              "      <th>4</th>\n",
              "      <td>01/01/2012</td>\n",
              "      <td>400</td>\n",
              "      <td>0.0</td>\n",
              "      <td>20.2</td>\n",
              "      <td>96.0</td>\n",
              "      <td>0.0</td>\n",
              "    </tr>\n",
              "  </tbody>\n",
              "</table>\n",
              "</div>"
            ],
            "text/plain": [
              "  Data Medicao  ...  VENTO, VELOCIDADE HORARIA(m/s)\n",
              "0   01/01/2012  ...                             0.0\n",
              "1   01/01/2012  ...                             0.0\n",
              "2   01/01/2012  ...                             0.0\n",
              "3   01/01/2012  ...                             0.0\n",
              "4   01/01/2012  ...                             0.0\n",
              "\n",
              "[5 rows x 6 columns]"
            ]
          },
          "metadata": {
            "tags": []
          },
          "execution_count": 2
        }
      ]
    },
    {
      "cell_type": "markdown",
      "metadata": {
        "id": "mdJSNtXjgnZI"
      },
      "source": [
        "#Separação dos dados de Outubro"
      ]
    },
    {
      "cell_type": "code",
      "metadata": {
        "colab": {
          "base_uri": "https://localhost:8080/",
          "height": 221
        },
        "id": "NK8odBtX3e2X",
        "outputId": "6289fc4d-675f-4580-bbce-8ba3911ac06e"
      },
      "source": [
        "clima_outubro = clima[clima['Data Medicao'].str.contains('/10/')]\n",
        "clima_outubro.head()"
      ],
      "execution_count": null,
      "outputs": [
        {
          "output_type": "execute_result",
          "data": {
            "text/html": [
              "<div>\n",
              "<style scoped>\n",
              "    .dataframe tbody tr th:only-of-type {\n",
              "        vertical-align: middle;\n",
              "    }\n",
              "\n",
              "    .dataframe tbody tr th {\n",
              "        vertical-align: top;\n",
              "    }\n",
              "\n",
              "    .dataframe thead th {\n",
              "        text-align: right;\n",
              "    }\n",
              "</style>\n",
              "<table border=\"1\" class=\"dataframe\">\n",
              "  <thead>\n",
              "    <tr style=\"text-align: right;\">\n",
              "      <th></th>\n",
              "      <th>Data Medicao</th>\n",
              "      <th>Hora Medicao</th>\n",
              "      <th>PRECIPITACAO TOTAL, HORARIO(mm)</th>\n",
              "      <th>TEMPERATURA DO AR - BULBO SECO, HORARIA(°C)</th>\n",
              "      <th>UMIDADE RELATIVA DO AR, HORARIA(%)</th>\n",
              "      <th>VENTO, VELOCIDADE HORARIA(m/s)</th>\n",
              "    </tr>\n",
              "  </thead>\n",
              "  <tbody>\n",
              "    <tr>\n",
              "      <th>6576</th>\n",
              "      <td>01/10/2012</td>\n",
              "      <td>0</td>\n",
              "      <td>0.0</td>\n",
              "      <td>25.8</td>\n",
              "      <td>54.0</td>\n",
              "      <td>1.6</td>\n",
              "    </tr>\n",
              "    <tr>\n",
              "      <th>6577</th>\n",
              "      <td>01/10/2012</td>\n",
              "      <td>100</td>\n",
              "      <td>0.0</td>\n",
              "      <td>23.9</td>\n",
              "      <td>63.0</td>\n",
              "      <td>3.4</td>\n",
              "    </tr>\n",
              "    <tr>\n",
              "      <th>6578</th>\n",
              "      <td>01/10/2012</td>\n",
              "      <td>200</td>\n",
              "      <td>0.0</td>\n",
              "      <td>22.6</td>\n",
              "      <td>67.0</td>\n",
              "      <td>3.5</td>\n",
              "    </tr>\n",
              "    <tr>\n",
              "      <th>6579</th>\n",
              "      <td>01/10/2012</td>\n",
              "      <td>300</td>\n",
              "      <td>0.0</td>\n",
              "      <td>21.7</td>\n",
              "      <td>70.0</td>\n",
              "      <td>3.4</td>\n",
              "    </tr>\n",
              "    <tr>\n",
              "      <th>6580</th>\n",
              "      <td>01/10/2012</td>\n",
              "      <td>400</td>\n",
              "      <td>0.0</td>\n",
              "      <td>20.8</td>\n",
              "      <td>73.0</td>\n",
              "      <td>2.6</td>\n",
              "    </tr>\n",
              "  </tbody>\n",
              "</table>\n",
              "</div>"
            ],
            "text/plain": [
              "     Data Medicao  ...  VENTO, VELOCIDADE HORARIA(m/s)\n",
              "6576   01/10/2012  ...                             1.6\n",
              "6577   01/10/2012  ...                             3.4\n",
              "6578   01/10/2012  ...                             3.5\n",
              "6579   01/10/2012  ...                             3.4\n",
              "6580   01/10/2012  ...                             2.6\n",
              "\n",
              "[5 rows x 6 columns]"
            ]
          },
          "metadata": {
            "tags": []
          },
          "execution_count": 3
        }
      ]
    },
    {
      "cell_type": "markdown",
      "metadata": {
        "id": "9XbQOMA25_GN"
      },
      "source": [
        "Data Frame com apenas os meses de outubro dos anos de 2012 a 2020."
      ]
    },
    {
      "cell_type": "markdown",
      "metadata": {
        "id": "edTUM5WjoNWu"
      },
      "source": [
        "#Dados com o dia 10/10 dos anos de 2012 até 2020"
      ]
    },
    {
      "cell_type": "code",
      "metadata": {
        "colab": {
          "base_uri": "https://localhost:8080/",
          "height": 314
        },
        "id": "3c7baN9d50jg",
        "outputId": "1a02c895-c557-483c-d5c7-af86ca0d1b37"
      },
      "source": [
        "clima_outubro_dia = clima_outubro[clima_outubro['Data Medicao'].str.contains('10/10')]\n",
        "clima_outubro[clima_outubro['Data Medicao'].str.contains('10/10')].describe()"
      ],
      "execution_count": null,
      "outputs": [
        {
          "output_type": "execute_result",
          "data": {
            "text/html": [
              "<div>\n",
              "<style scoped>\n",
              "    .dataframe tbody tr th:only-of-type {\n",
              "        vertical-align: middle;\n",
              "    }\n",
              "\n",
              "    .dataframe tbody tr th {\n",
              "        vertical-align: top;\n",
              "    }\n",
              "\n",
              "    .dataframe thead th {\n",
              "        text-align: right;\n",
              "    }\n",
              "</style>\n",
              "<table border=\"1\" class=\"dataframe\">\n",
              "  <thead>\n",
              "    <tr style=\"text-align: right;\">\n",
              "      <th></th>\n",
              "      <th>Hora Medicao</th>\n",
              "      <th>PRECIPITACAO TOTAL, HORARIO(mm)</th>\n",
              "      <th>TEMPERATURA DO AR - BULBO SECO, HORARIA(°C)</th>\n",
              "      <th>UMIDADE RELATIVA DO AR, HORARIA(%)</th>\n",
              "      <th>VENTO, VELOCIDADE HORARIA(m/s)</th>\n",
              "    </tr>\n",
              "  </thead>\n",
              "  <tbody>\n",
              "    <tr>\n",
              "      <th>count</th>\n",
              "      <td>216.000000</td>\n",
              "      <td>192.000000</td>\n",
              "      <td>209.000000</td>\n",
              "      <td>209.000000</td>\n",
              "      <td>209.000000</td>\n",
              "    </tr>\n",
              "    <tr>\n",
              "      <th>mean</th>\n",
              "      <td>1150.000000</td>\n",
              "      <td>0.166667</td>\n",
              "      <td>23.414354</td>\n",
              "      <td>61.430622</td>\n",
              "      <td>2.173206</td>\n",
              "    </tr>\n",
              "    <tr>\n",
              "      <th>std</th>\n",
              "      <td>693.826599</td>\n",
              "      <td>0.756773</td>\n",
              "      <td>5.747389</td>\n",
              "      <td>27.219659</td>\n",
              "      <td>1.636204</td>\n",
              "    </tr>\n",
              "    <tr>\n",
              "      <th>min</th>\n",
              "      <td>0.000000</td>\n",
              "      <td>0.000000</td>\n",
              "      <td>14.300000</td>\n",
              "      <td>10.000000</td>\n",
              "      <td>0.000000</td>\n",
              "    </tr>\n",
              "    <tr>\n",
              "      <th>25%</th>\n",
              "      <td>575.000000</td>\n",
              "      <td>0.000000</td>\n",
              "      <td>19.600000</td>\n",
              "      <td>35.000000</td>\n",
              "      <td>0.900000</td>\n",
              "    </tr>\n",
              "    <tr>\n",
              "      <th>50%</th>\n",
              "      <td>1150.000000</td>\n",
              "      <td>0.000000</td>\n",
              "      <td>21.600000</td>\n",
              "      <td>67.000000</td>\n",
              "      <td>1.900000</td>\n",
              "    </tr>\n",
              "    <tr>\n",
              "      <th>75%</th>\n",
              "      <td>1725.000000</td>\n",
              "      <td>0.000000</td>\n",
              "      <td>26.500000</td>\n",
              "      <td>87.000000</td>\n",
              "      <td>3.400000</td>\n",
              "    </tr>\n",
              "    <tr>\n",
              "      <th>max</th>\n",
              "      <td>2300.000000</td>\n",
              "      <td>7.400000</td>\n",
              "      <td>36.900000</td>\n",
              "      <td>98.000000</td>\n",
              "      <td>5.900000</td>\n",
              "    </tr>\n",
              "  </tbody>\n",
              "</table>\n",
              "</div>"
            ],
            "text/plain": [
              "       Hora Medicao  ...  VENTO, VELOCIDADE HORARIA(m/s)\n",
              "count    216.000000  ...                      209.000000\n",
              "mean    1150.000000  ...                        2.173206\n",
              "std      693.826599  ...                        1.636204\n",
              "min        0.000000  ...                        0.000000\n",
              "25%      575.000000  ...                        0.900000\n",
              "50%     1150.000000  ...                        1.900000\n",
              "75%     1725.000000  ...                        3.400000\n",
              "max     2300.000000  ...                        5.900000\n",
              "\n",
              "[8 rows x 5 columns]"
            ]
          },
          "metadata": {
            "tags": []
          },
          "execution_count": 4
        }
      ]
    },
    {
      "cell_type": "code",
      "metadata": {
        "colab": {
          "base_uri": "https://localhost:8080/",
          "height": 296
        },
        "id": "FLmceluxA36M",
        "outputId": "537a5254-1c30-489d-8ae8-65b6d33f0578"
      },
      "source": [
        "import seaborn as sns\n",
        "sns.boxplot(x=clima_outubro_dia['TEMPERATURA DO AR - BULBO SECO, HORARIA(°C)'])"
      ],
      "execution_count": null,
      "outputs": [
        {
          "output_type": "execute_result",
          "data": {
            "text/plain": [
              "<matplotlib.axes._subplots.AxesSubplot at 0x7f16c2f5b2d0>"
            ]
          },
          "metadata": {
            "tags": []
          },
          "execution_count": 20
        },
        {
          "output_type": "display_data",
          "data": {
            "image/png": "[encoded data removed]",
            "text/plain": [
              "<Figure size 432x288 with 1 Axes>"
            ]
          },
          "metadata": {
            "tags": [],
            "needs_background": "light"
          }
        }
      ]
    },
    {
      "cell_type": "code",
      "metadata": {
        "colab": {
          "base_uri": "https://localhost:8080/",
          "height": 296
        },
        "id": "-WIiZeka6LA9",
        "outputId": "7b3e526b-c6c6-482e-ce03-c6e5c7b7db43"
      },
      "source": [
        "sns.boxplot(x=clima_outubro_dia['UMIDADE RELATIVA DO AR, HORARIA(%)'])"
      ],
      "execution_count": null,
      "outputs": [
        {
          "output_type": "execute_result",
          "data": {
            "text/plain": [
              "<matplotlib.axes._subplots.AxesSubplot at 0x7f16c1674d10>"
            ]
          },
          "metadata": {
            "tags": []
          },
          "execution_count": 21
        },
        {
          "output_type": "display_data",
          "data": {
            "image/png": "[encoded data removed]",
            "text/plain": [
              "<Figure size 432x288 with 1 Axes>"
            ]
          },
          "metadata": {
            "tags": [],
            "needs_background": "light"
          }
        }
      ]
    },
    {
      "cell_type": "code",
      "metadata": {
        "colab": {
          "base_uri": "https://localhost:8080/",
          "height": 296
        },
        "id": "VropAaCGP2jN",
        "outputId": "c800dc59-6682-42a5-f360-a0d103d67925"
      },
      "source": [
        "sns.boxplot(x=clima_outubro_dia['PRECIPITACAO TOTAL, HORARIO(mm)'])\n"
      ],
      "execution_count": null,
      "outputs": [
        {
          "output_type": "execute_result",
          "data": {
            "text/plain": [
              "<matplotlib.axes._subplots.AxesSubplot at 0x7f16c162e6d0>"
            ]
          },
          "metadata": {
            "tags": []
          },
          "execution_count": 22
        },
        {
          "output_type": "display_data",
          "data": {
            "image/png": "[encoded data removed]",
            "text/plain": [
              "<Figure size 432x288 with 1 Axes>"
            ]
          },
          "metadata": {
            "tags": [],
            "needs_background": "light"
          }
        }
      ]
    },
    {
      "cell_type": "markdown",
      "metadata": {
        "id": "6YLgNAVnqvzK"
      },
      "source": [
        "Há vários outliners, há porcentagem de algo maior que zero é menor que 25%"
      ]
    },
    {
      "cell_type": "markdown",
      "metadata": {
        "id": "e0EzWiSMq7f1"
      },
      "source": [
        "#Agrupamento dos dados do dia 05/10 até o dia 10/10 dos anos de 2012 até 2020"
      ]
    },
    {
      "cell_type": "markdown",
      "metadata": {
        "id": "Xa912Y_OrJID"
      },
      "source": [
        "Inicialmente propus desenvolver manualmente todas as datas."
      ]
    },
    {
      "cell_type": "code",
      "metadata": {
        "id": "cm_KsJRNEwOt"
      },
      "source": [
        "#PODERIA FAZER UM LOOP AQUI, MAS FIQUEI SEM IDEIA\n",
        "clima_outubro_dia5 = clima_outubro[clima_outubro['Data Medicao'].str.contains('05/10')]\n",
        "clima_outubro_dia6 = clima_outubro[clima_outubro['Data Medicao'].str.contains('06/10')]\n",
        "clima_outubro_dia7 = clima_outubro[clima_outubro['Data Medicao'].str.contains('07/10')]\n",
        "clima_outubro_dia8 = clima_outubro[clima_outubro['Data Medicao'].str.contains('08/10')]\n",
        "clima_outubro_dia9 = clima_outubro[clima_outubro['Data Medicao'].str.contains('09/10')]\n",
        "clima_outubro_dia10 = clima_outubro[clima_outubro['Data Medicao'].str.contains('10/10')]\n",
        "clima_outubro_dia11 = clima_outubro[clima_outubro['Data Medicao'].str.contains('11/10')]\n",
        "clima_outubro_dia12 = clima_outubro[clima_outubro['Data Medicao'].str.contains('12/10')]\n",
        "clima_outubro_dia13 = clima_outubro[clima_outubro['Data Medicao'].str.contains('13/10')]\n",
        "clima_outubro_dia14 = clima_outubro[clima_outubro['Data Medicao'].str.contains('14/10')]\n",
        "clima_outubro_dia15 = clima_outubro[clima_outubro['Data Medicao'].str.contains('15/10')]\n",
        "clima_outubro_dias = clima_outubro_dia5.append([clima_outubro_dia6,clima_outubro_dia7,clima_outubro_dia8,clima_outubro_dia9,clima_outubro_dia10,\n",
        "                      clima_outubro_dia11,clima_outubro_dia12,clima_outubro_dia13,clima_outubro_dia14,clima_outubro_dia15])"
      ],
      "execution_count": null,
      "outputs": []
    },
    {
      "cell_type": "markdown",
      "metadata": {
        "id": "u36f4Z7IrQVA"
      },
      "source": [
        "Desenvolvi um loop para o agrupamento dos dados"
      ]
    },
    {
      "cell_type": "code",
      "metadata": {
        "id": "w3DYg89eRIRQ"
      },
      "source": [
        "#FIZ DOIS LOOPS - AINDA DA PRA ENXUGAR ISSO AI\n",
        "x = 5\n",
        "dias = clima_outubro[clima_outubro['Data Medicao'].str.contains('05/10')]\n",
        "while x < 10 :\n",
        "  dx = clima_outubro[clima_outubro['Data Medicao'].str.contains('0%i/10' %x)]\n",
        "  dias = dias.append(dx)\n",
        "  x = x + 1\n",
        "i = 10\n",
        "while i < 16 :\n",
        "  di = clima_outubro[clima_outubro['Data Medicao'].str.contains('%i/10' %i)]\n",
        "  dias = dias.append(di)\n",
        "  i = i + 1"
      ],
      "execution_count": null,
      "outputs": []
    },
    {
      "cell_type": "markdown",
      "metadata": {
        "id": "JyP_EkdzrZTe"
      },
      "source": [
        "##Análise com o agrupamento dos dados"
      ]
    },
    {
      "cell_type": "markdown",
      "metadata": {
        "id": "CfknzcWFrhdk"
      },
      "source": [
        "Médias de todas as informações se agrupando pelas datas"
      ]
    },
    {
      "cell_type": "code",
      "metadata": {
        "id": "82I8oHCHRFFa",
        "colab": {
          "base_uri": "https://localhost:8080/",
          "height": 296
        },
        "outputId": "97d430b0-359a-4205-86a6-b0abaeaf0345"
      },
      "source": [
        "medias = dias.groupby(['Data Medicao']).mean()\n",
        "medias.reset_index(inplace=True)\n",
        "sns.boxplot(x=medias['TEMPERATURA DO AR - BULBO SECO, HORARIA(°C)'])\n"
      ],
      "execution_count": null,
      "outputs": [
        {
          "output_type": "execute_result",
          "data": {
            "text/plain": [
              "<matplotlib.axes._subplots.AxesSubplot at 0x7f16c2af8850>"
            ]
          },
          "metadata": {
            "tags": []
          },
          "execution_count": 9
        },
        {
          "output_type": "display_data",
          "data": {
            "image/png": "[encoded data removed]",
            "text/plain": [
              "<Figure size 432x288 with 1 Axes>"
            ]
          },
          "metadata": {
            "tags": [],
            "needs_background": "light"
          }
        }
      ]
    },
    {
      "cell_type": "code",
      "metadata": {
        "colab": {
          "base_uri": "https://localhost:8080/",
          "height": 296
        },
        "id": "BIUayPYnN0lD",
        "outputId": "12822786-54e9-4470-d181-8decbbf12b52"
      },
      "source": [
        "sns.boxplot(x=medias['UMIDADE RELATIVA DO AR, HORARIA(%)'])"
      ],
      "execution_count": null,
      "outputs": [
        {
          "output_type": "execute_result",
          "data": {
            "text/plain": [
              "<matplotlib.axes._subplots.AxesSubplot at 0x7f16c2a5bd50>"
            ]
          },
          "metadata": {
            "tags": []
          },
          "execution_count": 10
        },
        {
          "output_type": "display_data",
          "data": {
            "image/png": "[encoded data removed]",
            "text/plain": [
              "<Figure size 432x288 with 1 Axes>"
            ]
          },
          "metadata": {
            "tags": [],
            "needs_background": "light"
          }
        }
      ]
    },
    {
      "cell_type": "markdown",
      "metadata": {
        "id": "ws4gpzVlshSL"
      },
      "source": [
        "Um dos problemas dessa média é que pega os horários noturnos, também. O certo seria retirar os horários noturno que não seriam relevantes para mim."
      ]
    },
    {
      "cell_type": "code",
      "metadata": {
        "colab": {
          "base_uri": "https://localhost:8080/",
          "height": 314
        },
        "id": "KUBoqWN4g2k7",
        "outputId": "c5f23c6d-bc21-4af6-e3e9-173a960688da"
      },
      "source": [
        "dias.describe()"
      ],
      "execution_count": null,
      "outputs": [
        {
          "output_type": "execute_result",
          "data": {
            "text/html": [
              "<div>\n",
              "<style scoped>\n",
              "    .dataframe tbody tr th:only-of-type {\n",
              "        vertical-align: middle;\n",
              "    }\n",
              "\n",
              "    .dataframe tbody tr th {\n",
              "        vertical-align: top;\n",
              "    }\n",
              "\n",
              "    .dataframe thead th {\n",
              "        text-align: right;\n",
              "    }\n",
              "</style>\n",
              "<table border=\"1\" class=\"dataframe\">\n",
              "  <thead>\n",
              "    <tr style=\"text-align: right;\">\n",
              "      <th></th>\n",
              "      <th>Hora Medicao</th>\n",
              "      <th>PRECIPITACAO TOTAL, HORARIO(mm)</th>\n",
              "      <th>TEMPERATURA DO AR - BULBO SECO, HORARIA(°C)</th>\n",
              "      <th>UMIDADE RELATIVA DO AR, HORARIA(%)</th>\n",
              "      <th>VENTO, VELOCIDADE HORARIA(m/s)</th>\n",
              "    </tr>\n",
              "  </thead>\n",
              "  <tbody>\n",
              "    <tr>\n",
              "      <th>count</th>\n",
              "      <td>2592.000000</td>\n",
              "      <td>2286.000000</td>\n",
              "      <td>2548.000000</td>\n",
              "      <td>2546.000000</td>\n",
              "      <td>2548.000000</td>\n",
              "    </tr>\n",
              "    <tr>\n",
              "      <th>mean</th>\n",
              "      <td>1150.000000</td>\n",
              "      <td>0.147682</td>\n",
              "      <td>23.412991</td>\n",
              "      <td>66.145326</td>\n",
              "      <td>2.177433</td>\n",
              "    </tr>\n",
              "    <tr>\n",
              "      <th>std</th>\n",
              "      <td>692.352224</td>\n",
              "      <td>1.148688</td>\n",
              "      <td>5.828308</td>\n",
              "      <td>22.872520</td>\n",
              "      <td>1.763675</td>\n",
              "    </tr>\n",
              "    <tr>\n",
              "      <th>min</th>\n",
              "      <td>0.000000</td>\n",
              "      <td>0.000000</td>\n",
              "      <td>9.200000</td>\n",
              "      <td>10.000000</td>\n",
              "      <td>0.000000</td>\n",
              "    </tr>\n",
              "    <tr>\n",
              "      <th>25%</th>\n",
              "      <td>575.000000</td>\n",
              "      <td>0.000000</td>\n",
              "      <td>19.375000</td>\n",
              "      <td>48.250000</td>\n",
              "      <td>0.700000</td>\n",
              "    </tr>\n",
              "    <tr>\n",
              "      <th>50%</th>\n",
              "      <td>1150.000000</td>\n",
              "      <td>0.000000</td>\n",
              "      <td>22.200000</td>\n",
              "      <td>71.000000</td>\n",
              "      <td>1.900000</td>\n",
              "    </tr>\n",
              "    <tr>\n",
              "      <th>75%</th>\n",
              "      <td>1725.000000</td>\n",
              "      <td>0.000000</td>\n",
              "      <td>27.125000</td>\n",
              "      <td>86.000000</td>\n",
              "      <td>3.300000</td>\n",
              "    </tr>\n",
              "    <tr>\n",
              "      <th>max</th>\n",
              "      <td>2300.000000</td>\n",
              "      <td>36.400000</td>\n",
              "      <td>40.200000</td>\n",
              "      <td>99.000000</td>\n",
              "      <td>10.200000</td>\n",
              "    </tr>\n",
              "  </tbody>\n",
              "</table>\n",
              "</div>"
            ],
            "text/plain": [
              "       Hora Medicao  ...  VENTO, VELOCIDADE HORARIA(m/s)\n",
              "count   2592.000000  ...                     2548.000000\n",
              "mean    1150.000000  ...                        2.177433\n",
              "std      692.352224  ...                        1.763675\n",
              "min        0.000000  ...                        0.000000\n",
              "25%      575.000000  ...                        0.700000\n",
              "50%     1150.000000  ...                        1.900000\n",
              "75%     1725.000000  ...                        3.300000\n",
              "max     2300.000000  ...                       10.200000\n",
              "\n",
              "[8 rows x 5 columns]"
            ]
          },
          "metadata": {
            "tags": []
          },
          "execution_count": 11
        }
      ]
    },
    {
      "cell_type": "markdown",
      "metadata": {
        "id": "JvATpADss3nH"
      },
      "source": [
        "Seleção dos dados que estão entre às 6h e 19h e gerando a média dos dias."
      ]
    },
    {
      "cell_type": "code",
      "metadata": {
        "id": "Y3kWdflr9Dat",
        "colab": {
          "base_uri": "https://localhost:8080/",
          "height": 484
        },
        "outputId": "c84e3351-1117-4668-9526-8bc8249661da"
      },
      "source": [
        "dias_dia = dias[(dias['Hora Medicao'] > 600) & (dias['Hora Medicao'] < 1900)]\n",
        "dias_dia.groupby('Data Medicao').mean()"
      ],
      "execution_count": null,
      "outputs": [
        {
          "output_type": "execute_result",
          "data": {
            "text/html": [
              "<div>\n",
              "<style scoped>\n",
              "    .dataframe tbody tr th:only-of-type {\n",
              "        vertical-align: middle;\n",
              "    }\n",
              "\n",
              "    .dataframe tbody tr th {\n",
              "        vertical-align: top;\n",
              "    }\n",
              "\n",
              "    .dataframe thead th {\n",
              "        text-align: right;\n",
              "    }\n",
              "</style>\n",
              "<table border=\"1\" class=\"dataframe\">\n",
              "  <thead>\n",
              "    <tr style=\"text-align: right;\">\n",
              "      <th></th>\n",
              "      <th>Hora Medicao</th>\n",
              "      <th>PRECIPITACAO TOTAL, HORARIO(mm)</th>\n",
              "      <th>TEMPERATURA DO AR - BULBO SECO, HORARIA(°C)</th>\n",
              "      <th>UMIDADE RELATIVA DO AR, HORARIA(%)</th>\n",
              "      <th>VENTO, VELOCIDADE HORARIA(m/s)</th>\n",
              "    </tr>\n",
              "    <tr>\n",
              "      <th>Data Medicao</th>\n",
              "      <th></th>\n",
              "      <th></th>\n",
              "      <th></th>\n",
              "      <th></th>\n",
              "      <th></th>\n",
              "    </tr>\n",
              "  </thead>\n",
              "  <tbody>\n",
              "    <tr>\n",
              "      <th>05/10/2012</th>\n",
              "      <td>1250</td>\n",
              "      <td>0.000000</td>\n",
              "      <td>24.516667</td>\n",
              "      <td>72.000000</td>\n",
              "      <td>1.950000</td>\n",
              "    </tr>\n",
              "    <tr>\n",
              "      <th>05/10/2013</th>\n",
              "      <td>1250</td>\n",
              "      <td>0.000000</td>\n",
              "      <td>19.811111</td>\n",
              "      <td>49.222222</td>\n",
              "      <td>2.955556</td>\n",
              "    </tr>\n",
              "    <tr>\n",
              "      <th>05/10/2014</th>\n",
              "      <td>1250</td>\n",
              "      <td>0.000000</td>\n",
              "      <td>20.508333</td>\n",
              "      <td>56.416667</td>\n",
              "      <td>6.283333</td>\n",
              "    </tr>\n",
              "    <tr>\n",
              "      <th>05/10/2015</th>\n",
              "      <td>1250</td>\n",
              "      <td>0.166667</td>\n",
              "      <td>25.041667</td>\n",
              "      <td>69.272727</td>\n",
              "      <td>1.683333</td>\n",
              "    </tr>\n",
              "    <tr>\n",
              "      <th>05/10/2016</th>\n",
              "      <td>1250</td>\n",
              "      <td>0.516667</td>\n",
              "      <td>19.975000</td>\n",
              "      <td>83.333333</td>\n",
              "      <td>1.108333</td>\n",
              "    </tr>\n",
              "    <tr>\n",
              "      <th>...</th>\n",
              "      <td>...</td>\n",
              "      <td>...</td>\n",
              "      <td>...</td>\n",
              "      <td>...</td>\n",
              "      <td>...</td>\n",
              "    </tr>\n",
              "    <tr>\n",
              "      <th>15/10/2016</th>\n",
              "      <td>1250</td>\n",
              "      <td>0.000000</td>\n",
              "      <td>25.508333</td>\n",
              "      <td>68.500000</td>\n",
              "      <td>2.958333</td>\n",
              "    </tr>\n",
              "    <tr>\n",
              "      <th>15/10/2017</th>\n",
              "      <td>1250</td>\n",
              "      <td>0.000000</td>\n",
              "      <td>21.091667</td>\n",
              "      <td>63.500000</td>\n",
              "      <td>0.983333</td>\n",
              "    </tr>\n",
              "    <tr>\n",
              "      <th>15/10/2018</th>\n",
              "      <td>1250</td>\n",
              "      <td>NaN</td>\n",
              "      <td>23.675000</td>\n",
              "      <td>70.416667</td>\n",
              "      <td>1.383333</td>\n",
              "    </tr>\n",
              "    <tr>\n",
              "      <th>15/10/2019</th>\n",
              "      <td>1250</td>\n",
              "      <td>0.033333</td>\n",
              "      <td>22.416667</td>\n",
              "      <td>84.083333</td>\n",
              "      <td>1.066667</td>\n",
              "    </tr>\n",
              "    <tr>\n",
              "      <th>15/10/2020</th>\n",
              "      <td>1250</td>\n",
              "      <td>0.783333</td>\n",
              "      <td>20.116667</td>\n",
              "      <td>89.083333</td>\n",
              "      <td>1.933333</td>\n",
              "    </tr>\n",
              "  </tbody>\n",
              "</table>\n",
              "<p>99 rows × 5 columns</p>\n",
              "</div>"
            ],
            "text/plain": [
              "              Hora Medicao  ...  VENTO, VELOCIDADE HORARIA(m/s)\n",
              "Data Medicao                ...                                \n",
              "05/10/2012            1250  ...                        1.950000\n",
              "05/10/2013            1250  ...                        2.955556\n",
              "05/10/2014            1250  ...                        6.283333\n",
              "05/10/2015            1250  ...                        1.683333\n",
              "05/10/2016            1250  ...                        1.108333\n",
              "...                    ...  ...                             ...\n",
              "15/10/2016            1250  ...                        2.958333\n",
              "15/10/2017            1250  ...                        0.983333\n",
              "15/10/2018            1250  ...                        1.383333\n",
              "15/10/2019            1250  ...                        1.066667\n",
              "15/10/2020            1250  ...                        1.933333\n",
              "\n",
              "[99 rows x 5 columns]"
            ]
          },
          "metadata": {
            "tags": []
          },
          "execution_count": 12
        }
      ]
    },
    {
      "cell_type": "code",
      "metadata": {
        "colab": {
          "base_uri": "https://localhost:8080/",
          "height": 314
        },
        "id": "NlS-8HgscRHh",
        "outputId": "2f9e3b23-1401-44f3-bcd5-b7f60fec8521"
      },
      "source": [
        "dias_dia.describe()"
      ],
      "execution_count": null,
      "outputs": [
        {
          "output_type": "execute_result",
          "data": {
            "text/html": [
              "<div>\n",
              "<style scoped>\n",
              "    .dataframe tbody tr th:only-of-type {\n",
              "        vertical-align: middle;\n",
              "    }\n",
              "\n",
              "    .dataframe tbody tr th {\n",
              "        vertical-align: top;\n",
              "    }\n",
              "\n",
              "    .dataframe thead th {\n",
              "        text-align: right;\n",
              "    }\n",
              "</style>\n",
              "<table border=\"1\" class=\"dataframe\">\n",
              "  <thead>\n",
              "    <tr style=\"text-align: right;\">\n",
              "      <th></th>\n",
              "      <th>Hora Medicao</th>\n",
              "      <th>PRECIPITACAO TOTAL, HORARIO(mm)</th>\n",
              "      <th>TEMPERATURA DO AR - BULBO SECO, HORARIA(°C)</th>\n",
              "      <th>UMIDADE RELATIVA DO AR, HORARIA(%)</th>\n",
              "      <th>VENTO, VELOCIDADE HORARIA(m/s)</th>\n",
              "    </tr>\n",
              "  </thead>\n",
              "  <tbody>\n",
              "    <tr>\n",
              "      <th>count</th>\n",
              "      <td>1296.000000</td>\n",
              "      <td>1134.000000</td>\n",
              "      <td>1264.000000</td>\n",
              "      <td>1262.000000</td>\n",
              "      <td>1264.000000</td>\n",
              "    </tr>\n",
              "    <tr>\n",
              "      <th>mean</th>\n",
              "      <td>1250.000000</td>\n",
              "      <td>0.141446</td>\n",
              "      <td>23.896915</td>\n",
              "      <td>64.876387</td>\n",
              "      <td>2.481646</td>\n",
              "    </tr>\n",
              "    <tr>\n",
              "      <th>std</th>\n",
              "      <td>345.338511</td>\n",
              "      <td>0.849460</td>\n",
              "      <td>6.380473</td>\n",
              "      <td>24.136223</td>\n",
              "      <td>1.928692</td>\n",
              "    </tr>\n",
              "    <tr>\n",
              "      <th>min</th>\n",
              "      <td>700.000000</td>\n",
              "      <td>0.000000</td>\n",
              "      <td>9.200000</td>\n",
              "      <td>10.000000</td>\n",
              "      <td>0.000000</td>\n",
              "    </tr>\n",
              "    <tr>\n",
              "      <th>25%</th>\n",
              "      <td>975.000000</td>\n",
              "      <td>0.000000</td>\n",
              "      <td>19.175000</td>\n",
              "      <td>45.000000</td>\n",
              "      <td>0.800000</td>\n",
              "    </tr>\n",
              "    <tr>\n",
              "      <th>50%</th>\n",
              "      <td>1250.000000</td>\n",
              "      <td>0.000000</td>\n",
              "      <td>22.400000</td>\n",
              "      <td>70.000000</td>\n",
              "      <td>2.300000</td>\n",
              "    </tr>\n",
              "    <tr>\n",
              "      <th>75%</th>\n",
              "      <td>1525.000000</td>\n",
              "      <td>0.000000</td>\n",
              "      <td>28.600000</td>\n",
              "      <td>86.000000</td>\n",
              "      <td>3.800000</td>\n",
              "    </tr>\n",
              "    <tr>\n",
              "      <th>max</th>\n",
              "      <td>1800.000000</td>\n",
              "      <td>14.400000</td>\n",
              "      <td>40.200000</td>\n",
              "      <td>99.000000</td>\n",
              "      <td>10.200000</td>\n",
              "    </tr>\n",
              "  </tbody>\n",
              "</table>\n",
              "</div>"
            ],
            "text/plain": [
              "       Hora Medicao  ...  VENTO, VELOCIDADE HORARIA(m/s)\n",
              "count   1296.000000  ...                     1264.000000\n",
              "mean    1250.000000  ...                        2.481646\n",
              "std      345.338511  ...                        1.928692\n",
              "min      700.000000  ...                        0.000000\n",
              "25%      975.000000  ...                        0.800000\n",
              "50%     1250.000000  ...                        2.300000\n",
              "75%     1525.000000  ...                        3.800000\n",
              "max     1800.000000  ...                       10.200000\n",
              "\n",
              "[8 rows x 5 columns]"
            ]
          },
          "metadata": {
            "tags": []
          },
          "execution_count": 13
        }
      ]
    },
    {
      "cell_type": "markdown",
      "metadata": {
        "id": "94NXxS3ctazb"
      },
      "source": [
        "Com o *describe* eu consigo ver que em todos esses 9 anos a probabilidade de chover nesses 10 dias é menor que 25%, sendo que 75% dos dados da precipitação está em 0. \n",
        "Entretanto, há um dia pelo menos que choveu razoavelmente bastante (14mm). Assim, seria interessante ver quantos dias ocorreu chuva."
      ]
    },
    {
      "cell_type": "code",
      "metadata": {
        "colab": {
          "base_uri": "https://localhost:8080/"
        },
        "id": "-EY9znjTd9HA",
        "outputId": "5e69f0aa-7144-4b31-d2be-732638f85bb6"
      },
      "source": [
        "chuva = sum(dias_dia['PRECIPITACAO TOTAL, HORARIO(mm)']>0)\n",
        "sem_chuva = sum(dias_dia['PRECIPITACAO TOTAL, HORARIO(mm)']<90)\n",
        "prob = chuva/sem_chuva\n",
        "prob*100"
      ],
      "execution_count": null,
      "outputs": [
        {
          "output_type": "execute_result",
          "data": {
            "text/plain": [
              "7.054673721340388"
            ]
          },
          "metadata": {
            "tags": []
          },
          "execution_count": 14
        }
      ]
    },
    {
      "cell_type": "code",
      "metadata": {
        "id": "b1oEjUC2eNQu"
      },
      "source": [
        "#A PROBABILIDADE DE CHOVER DURANTE O DIA DO DIA 5 ATÉ O DIA 15 É DE 7%"
      ],
      "execution_count": null,
      "outputs": []
    },
    {
      "cell_type": "code",
      "metadata": {
        "colab": {
          "base_uri": "https://localhost:8080/"
        },
        "id": "bnM-P49kfxEn",
        "outputId": "8d973019-19aa-4fee-ec4d-6ca83e092c59"
      },
      "source": [
        "dias_dia[dias_dia['PRECIPITACAO TOTAL, HORARIO(mm)']>0].groupby('Data Medicao').mean().info()"
      ],
      "execution_count": null,
      "outputs": [
        {
          "output_type": "stream",
          "text": [
            "<class 'pandas.core.frame.DataFrame'>\n",
            "Index: 23 entries, 05/10/2015 to 15/10/2020\n",
            "Data columns (total 5 columns):\n",
            " #   Column                                       Non-Null Count  Dtype  \n",
            "---  ------                                       --------------  -----  \n",
            " 0   Hora Medicao                                 23 non-null     float64\n",
            " 1   PRECIPITACAO TOTAL, HORARIO(mm)              23 non-null     float64\n",
            " 2   TEMPERATURA DO AR - BULBO SECO, HORARIA(°C)  23 non-null     float64\n",
            " 3   UMIDADE RELATIVA DO AR, HORARIA(%)           23 non-null     float64\n",
            " 4   VENTO, VELOCIDADE HORARIA(m/s)               23 non-null     float64\n",
            "dtypes: float64(5)\n",
            "memory usage: 1.1+ KB\n"
          ],
          "name": "stdout"
        }
      ]
    },
    {
      "cell_type": "code",
      "metadata": {
        "colab": {
          "base_uri": "https://localhost:8080/"
        },
        "id": "6ksJh8U2rJp0",
        "outputId": "4f5b56d8-1984-4461-8426-02ae5a2bc7b7"
      },
      "source": [
        "dias_dia.groupby('Data Medicao').mean().info()"
      ],
      "execution_count": null,
      "outputs": [
        {
          "output_type": "stream",
          "text": [
            "<class 'pandas.core.frame.DataFrame'>\n",
            "Index: 99 entries, 05/10/2012 to 15/10/2020\n",
            "Data columns (total 5 columns):\n",
            " #   Column                                       Non-Null Count  Dtype  \n",
            "---  ------                                       --------------  -----  \n",
            " 0   Hora Medicao                                 99 non-null     int64  \n",
            " 1   PRECIPITACAO TOTAL, HORARIO(mm)              88 non-null     float64\n",
            " 2   TEMPERATURA DO AR - BULBO SECO, HORARIA(°C)  99 non-null     float64\n",
            " 3   UMIDADE RELATIVA DO AR, HORARIA(%)           99 non-null     float64\n",
            " 4   VENTO, VELOCIDADE HORARIA(m/s)               99 non-null     float64\n",
            "dtypes: float64(4), int64(1)\n",
            "memory usage: 4.6+ KB\n"
          ],
          "name": "stdout"
        }
      ]
    },
    {
      "cell_type": "code",
      "metadata": {
        "colab": {
          "base_uri": "https://localhost:8080/"
        },
        "id": "a2mFlZeAf0U5",
        "outputId": "448f4869-71e0-46bd-91d4-13652367d551"
      },
      "source": [
        "#dos 99 dias, 23 dias ocorreu alguma precipitação\n",
        "prob_chuva=23/99\n",
        "prob_chuva*100"
      ],
      "execution_count": null,
      "outputs": [
        {
          "output_type": "execute_result",
          "data": {
            "text/plain": [
              "23.232323232323232"
            ]
          },
          "metadata": {
            "tags": []
          },
          "execution_count": 18
        }
      ]
    },
    {
      "cell_type": "code",
      "metadata": {
        "colab": {
          "base_uri": "https://localhost:8080/",
          "height": 484
        },
        "id": "eJ5upohQwIkP",
        "outputId": "879d83a9-ebab-49e7-dfef-8558e84434cf"
      },
      "source": [
        "dias_dia2 = dias_dia.dropna()\n",
        "dias_dia2.groupby('Data Medicao').mean()"
      ],
      "execution_count": null,
      "outputs": [
        {
          "output_type": "execute_result",
          "data": {
            "text/html": [
              "<div>\n",
              "<style scoped>\n",
              "    .dataframe tbody tr th:only-of-type {\n",
              "        vertical-align: middle;\n",
              "    }\n",
              "\n",
              "    .dataframe tbody tr th {\n",
              "        vertical-align: top;\n",
              "    }\n",
              "\n",
              "    .dataframe thead th {\n",
              "        text-align: right;\n",
              "    }\n",
              "</style>\n",
              "<table border=\"1\" class=\"dataframe\">\n",
              "  <thead>\n",
              "    <tr style=\"text-align: right;\">\n",
              "      <th></th>\n",
              "      <th>Hora Medicao</th>\n",
              "      <th>PRECIPITACAO TOTAL, HORARIO(mm)</th>\n",
              "      <th>TEMPERATURA DO AR - BULBO SECO, HORARIA(°C)</th>\n",
              "      <th>UMIDADE RELATIVA DO AR, HORARIA(%)</th>\n",
              "      <th>VENTO, VELOCIDADE HORARIA(m/s)</th>\n",
              "    </tr>\n",
              "    <tr>\n",
              "      <th>Data Medicao</th>\n",
              "      <th></th>\n",
              "      <th></th>\n",
              "      <th></th>\n",
              "      <th></th>\n",
              "      <th></th>\n",
              "    </tr>\n",
              "  </thead>\n",
              "  <tbody>\n",
              "    <tr>\n",
              "      <th>05/10/2012</th>\n",
              "      <td>1250.000000</td>\n",
              "      <td>0.000000</td>\n",
              "      <td>24.516667</td>\n",
              "      <td>72.000000</td>\n",
              "      <td>1.950000</td>\n",
              "    </tr>\n",
              "    <tr>\n",
              "      <th>05/10/2013</th>\n",
              "      <td>1366.666667</td>\n",
              "      <td>0.000000</td>\n",
              "      <td>19.811111</td>\n",
              "      <td>49.222222</td>\n",
              "      <td>2.955556</td>\n",
              "    </tr>\n",
              "    <tr>\n",
              "      <th>05/10/2014</th>\n",
              "      <td>1250.000000</td>\n",
              "      <td>0.000000</td>\n",
              "      <td>20.508333</td>\n",
              "      <td>56.416667</td>\n",
              "      <td>6.283333</td>\n",
              "    </tr>\n",
              "    <tr>\n",
              "      <th>05/10/2015</th>\n",
              "      <td>1245.454545</td>\n",
              "      <td>0.163636</td>\n",
              "      <td>24.681818</td>\n",
              "      <td>69.272727</td>\n",
              "      <td>1.590909</td>\n",
              "    </tr>\n",
              "    <tr>\n",
              "      <th>05/10/2016</th>\n",
              "      <td>1250.000000</td>\n",
              "      <td>0.516667</td>\n",
              "      <td>19.975000</td>\n",
              "      <td>83.333333</td>\n",
              "      <td>1.108333</td>\n",
              "    </tr>\n",
              "    <tr>\n",
              "      <th>...</th>\n",
              "      <td>...</td>\n",
              "      <td>...</td>\n",
              "      <td>...</td>\n",
              "      <td>...</td>\n",
              "      <td>...</td>\n",
              "    </tr>\n",
              "    <tr>\n",
              "      <th>15/10/2015</th>\n",
              "      <td>1250.000000</td>\n",
              "      <td>0.000000</td>\n",
              "      <td>30.208333</td>\n",
              "      <td>51.166667</td>\n",
              "      <td>4.758333</td>\n",
              "    </tr>\n",
              "    <tr>\n",
              "      <th>15/10/2016</th>\n",
              "      <td>1250.000000</td>\n",
              "      <td>0.000000</td>\n",
              "      <td>25.508333</td>\n",
              "      <td>68.500000</td>\n",
              "      <td>2.958333</td>\n",
              "    </tr>\n",
              "    <tr>\n",
              "      <th>15/10/2017</th>\n",
              "      <td>1250.000000</td>\n",
              "      <td>0.000000</td>\n",
              "      <td>21.091667</td>\n",
              "      <td>63.500000</td>\n",
              "      <td>0.983333</td>\n",
              "    </tr>\n",
              "    <tr>\n",
              "      <th>15/10/2019</th>\n",
              "      <td>1250.000000</td>\n",
              "      <td>0.033333</td>\n",
              "      <td>22.416667</td>\n",
              "      <td>84.083333</td>\n",
              "      <td>1.066667</td>\n",
              "    </tr>\n",
              "    <tr>\n",
              "      <th>15/10/2020</th>\n",
              "      <td>1250.000000</td>\n",
              "      <td>0.783333</td>\n",
              "      <td>20.116667</td>\n",
              "      <td>89.083333</td>\n",
              "      <td>1.933333</td>\n",
              "    </tr>\n",
              "  </tbody>\n",
              "</table>\n",
              "<p>88 rows × 5 columns</p>\n",
              "</div>"
            ],
            "text/plain": [
              "              Hora Medicao  ...  VENTO, VELOCIDADE HORARIA(m/s)\n",
              "Data Medicao                ...                                \n",
              "05/10/2012     1250.000000  ...                        1.950000\n",
              "05/10/2013     1366.666667  ...                        2.955556\n",
              "05/10/2014     1250.000000  ...                        6.283333\n",
              "05/10/2015     1245.454545  ...                        1.590909\n",
              "05/10/2016     1250.000000  ...                        1.108333\n",
              "...                    ...  ...                             ...\n",
              "15/10/2015     1250.000000  ...                        4.758333\n",
              "15/10/2016     1250.000000  ...                        2.958333\n",
              "15/10/2017     1250.000000  ...                        0.983333\n",
              "15/10/2019     1250.000000  ...                        1.066667\n",
              "15/10/2020     1250.000000  ...                        1.933333\n",
              "\n",
              "[88 rows x 5 columns]"
            ]
          },
          "metadata": {
            "tags": []
          },
          "execution_count": 35
        }
      ]
    },
    {
      "cell_type": "markdown",
      "metadata": {
        "id": "Hbl8G5EG1Xyy"
      },
      "source": [
        "Quantidade de horas registradas com precipitação maior que 0"
      ]
    },
    {
      "cell_type": "code",
      "metadata": {
        "colab": {
          "base_uri": "https://localhost:8080/",
          "height": 827
        },
        "id": "IJ45Kp0i0zsA",
        "outputId": "c16af80e-41a6-44dd-a84b-7c9f701af5e8"
      },
      "source": [
        "dias_dia2[dias_dia2['PRECIPITACAO TOTAL, HORARIO(mm)']>0].groupby('Data Medicao').count()"
      ],
      "execution_count": null,
      "outputs": [
        {
          "output_type": "execute_result",
          "data": {
            "text/html": [
              "<div>\n",
              "<style scoped>\n",
              "    .dataframe tbody tr th:only-of-type {\n",
              "        vertical-align: middle;\n",
              "    }\n",
              "\n",
              "    .dataframe tbody tr th {\n",
              "        vertical-align: top;\n",
              "    }\n",
              "\n",
              "    .dataframe thead th {\n",
              "        text-align: right;\n",
              "    }\n",
              "</style>\n",
              "<table border=\"1\" class=\"dataframe\">\n",
              "  <thead>\n",
              "    <tr style=\"text-align: right;\">\n",
              "      <th></th>\n",
              "      <th>Hora Medicao</th>\n",
              "      <th>PRECIPITACAO TOTAL, HORARIO(mm)</th>\n",
              "      <th>TEMPERATURA DO AR - BULBO SECO, HORARIA(°C)</th>\n",
              "      <th>UMIDADE RELATIVA DO AR, HORARIA(%)</th>\n",
              "      <th>VENTO, VELOCIDADE HORARIA(m/s)</th>\n",
              "    </tr>\n",
              "    <tr>\n",
              "      <th>Data Medicao</th>\n",
              "      <th></th>\n",
              "      <th></th>\n",
              "      <th></th>\n",
              "      <th></th>\n",
              "      <th></th>\n",
              "    </tr>\n",
              "  </thead>\n",
              "  <tbody>\n",
              "    <tr>\n",
              "      <th>05/10/2015</th>\n",
              "      <td>2</td>\n",
              "      <td>2</td>\n",
              "      <td>2</td>\n",
              "      <td>2</td>\n",
              "      <td>2</td>\n",
              "    </tr>\n",
              "    <tr>\n",
              "      <th>05/10/2016</th>\n",
              "      <td>4</td>\n",
              "      <td>4</td>\n",
              "      <td>4</td>\n",
              "      <td>4</td>\n",
              "      <td>4</td>\n",
              "    </tr>\n",
              "    <tr>\n",
              "      <th>05/10/2019</th>\n",
              "      <td>4</td>\n",
              "      <td>4</td>\n",
              "      <td>4</td>\n",
              "      <td>4</td>\n",
              "      <td>4</td>\n",
              "    </tr>\n",
              "    <tr>\n",
              "      <th>06/10/2019</th>\n",
              "      <td>6</td>\n",
              "      <td>6</td>\n",
              "      <td>6</td>\n",
              "      <td>6</td>\n",
              "      <td>6</td>\n",
              "    </tr>\n",
              "    <tr>\n",
              "      <th>07/10/2014</th>\n",
              "      <td>1</td>\n",
              "      <td>1</td>\n",
              "      <td>1</td>\n",
              "      <td>1</td>\n",
              "      <td>1</td>\n",
              "    </tr>\n",
              "    <tr>\n",
              "      <th>07/10/2016</th>\n",
              "      <td>1</td>\n",
              "      <td>1</td>\n",
              "      <td>1</td>\n",
              "      <td>1</td>\n",
              "      <td>1</td>\n",
              "    </tr>\n",
              "    <tr>\n",
              "      <th>07/10/2017</th>\n",
              "      <td>1</td>\n",
              "      <td>1</td>\n",
              "      <td>1</td>\n",
              "      <td>1</td>\n",
              "      <td>1</td>\n",
              "    </tr>\n",
              "    <tr>\n",
              "      <th>07/10/2019</th>\n",
              "      <td>1</td>\n",
              "      <td>1</td>\n",
              "      <td>1</td>\n",
              "      <td>1</td>\n",
              "      <td>1</td>\n",
              "    </tr>\n",
              "    <tr>\n",
              "      <th>08/10/2017</th>\n",
              "      <td>3</td>\n",
              "      <td>3</td>\n",
              "      <td>3</td>\n",
              "      <td>3</td>\n",
              "      <td>3</td>\n",
              "    </tr>\n",
              "    <tr>\n",
              "      <th>10/10/2012</th>\n",
              "      <td>10</td>\n",
              "      <td>10</td>\n",
              "      <td>10</td>\n",
              "      <td>10</td>\n",
              "      <td>10</td>\n",
              "    </tr>\n",
              "    <tr>\n",
              "      <th>10/10/2015</th>\n",
              "      <td>1</td>\n",
              "      <td>1</td>\n",
              "      <td>1</td>\n",
              "      <td>1</td>\n",
              "      <td>1</td>\n",
              "    </tr>\n",
              "    <tr>\n",
              "      <th>11/10/2015</th>\n",
              "      <td>7</td>\n",
              "      <td>7</td>\n",
              "      <td>7</td>\n",
              "      <td>7</td>\n",
              "      <td>7</td>\n",
              "    </tr>\n",
              "    <tr>\n",
              "      <th>12/10/2015</th>\n",
              "      <td>10</td>\n",
              "      <td>10</td>\n",
              "      <td>10</td>\n",
              "      <td>10</td>\n",
              "      <td>10</td>\n",
              "    </tr>\n",
              "    <tr>\n",
              "      <th>12/10/2017</th>\n",
              "      <td>1</td>\n",
              "      <td>1</td>\n",
              "      <td>1</td>\n",
              "      <td>1</td>\n",
              "      <td>1</td>\n",
              "    </tr>\n",
              "    <tr>\n",
              "      <th>13/10/2013</th>\n",
              "      <td>2</td>\n",
              "      <td>2</td>\n",
              "      <td>2</td>\n",
              "      <td>2</td>\n",
              "      <td>2</td>\n",
              "    </tr>\n",
              "    <tr>\n",
              "      <th>13/10/2016</th>\n",
              "      <td>5</td>\n",
              "      <td>5</td>\n",
              "      <td>5</td>\n",
              "      <td>5</td>\n",
              "      <td>5</td>\n",
              "    </tr>\n",
              "    <tr>\n",
              "      <th>13/10/2020</th>\n",
              "      <td>1</td>\n",
              "      <td>1</td>\n",
              "      <td>1</td>\n",
              "      <td>1</td>\n",
              "      <td>1</td>\n",
              "    </tr>\n",
              "    <tr>\n",
              "      <th>14/10/2016</th>\n",
              "      <td>3</td>\n",
              "      <td>3</td>\n",
              "      <td>3</td>\n",
              "      <td>3</td>\n",
              "      <td>3</td>\n",
              "    </tr>\n",
              "    <tr>\n",
              "      <th>14/10/2019</th>\n",
              "      <td>1</td>\n",
              "      <td>1</td>\n",
              "      <td>1</td>\n",
              "      <td>1</td>\n",
              "      <td>1</td>\n",
              "    </tr>\n",
              "    <tr>\n",
              "      <th>14/10/2020</th>\n",
              "      <td>1</td>\n",
              "      <td>1</td>\n",
              "      <td>1</td>\n",
              "      <td>1</td>\n",
              "      <td>1</td>\n",
              "    </tr>\n",
              "    <tr>\n",
              "      <th>15/10/2013</th>\n",
              "      <td>3</td>\n",
              "      <td>3</td>\n",
              "      <td>3</td>\n",
              "      <td>3</td>\n",
              "      <td>3</td>\n",
              "    </tr>\n",
              "    <tr>\n",
              "      <th>15/10/2019</th>\n",
              "      <td>2</td>\n",
              "      <td>2</td>\n",
              "      <td>2</td>\n",
              "      <td>2</td>\n",
              "      <td>2</td>\n",
              "    </tr>\n",
              "    <tr>\n",
              "      <th>15/10/2020</th>\n",
              "      <td>8</td>\n",
              "      <td>8</td>\n",
              "      <td>8</td>\n",
              "      <td>8</td>\n",
              "      <td>8</td>\n",
              "    </tr>\n",
              "  </tbody>\n",
              "</table>\n",
              "</div>"
            ],
            "text/plain": [
              "              Hora Medicao  ...  VENTO, VELOCIDADE HORARIA(m/s)\n",
              "Data Medicao                ...                                \n",
              "05/10/2015               2  ...                               2\n",
              "05/10/2016               4  ...                               4\n",
              "05/10/2019               4  ...                               4\n",
              "06/10/2019               6  ...                               6\n",
              "07/10/2014               1  ...                               1\n",
              "07/10/2016               1  ...                               1\n",
              "07/10/2017               1  ...                               1\n",
              "07/10/2019               1  ...                               1\n",
              "08/10/2017               3  ...                               3\n",
              "10/10/2012              10  ...                              10\n",
              "10/10/2015               1  ...                               1\n",
              "11/10/2015               7  ...                               7\n",
              "12/10/2015              10  ...                              10\n",
              "12/10/2017               1  ...                               1\n",
              "13/10/2013               2  ...                               2\n",
              "13/10/2016               5  ...                               5\n",
              "13/10/2020               1  ...                               1\n",
              "14/10/2016               3  ...                               3\n",
              "14/10/2019               1  ...                               1\n",
              "14/10/2020               1  ...                               1\n",
              "15/10/2013               3  ...                               3\n",
              "15/10/2019               2  ...                               2\n",
              "15/10/2020               8  ...                               8\n",
              "\n",
              "[23 rows x 5 columns]"
            ]
          },
          "metadata": {
            "tags": []
          },
          "execution_count": 50
        }
      ]
    },
    {
      "cell_type": "code",
      "metadata": {
        "id": "FE9TsG6ws-wK",
        "colab": {
          "base_uri": "https://localhost:8080/",
          "height": 563
        },
        "outputId": "4b8a5e43-09b9-4891-86c1-d367537fe9b9"
      },
      "source": [
        "import matplotlib.pyplot as plt\n",
        "fig=plt.figure(figsize=(30, 15), dpi= 160, facecolor='w', edgecolor='k')\n",
        "plt.xticks(rotation = 45)\n",
        "sns.histplot(data=dias_dia2.groupby('Data Medicao').mean(), x='Data Medicao', y='PRECIPITACAO TOTAL, HORARIO(mm)')"
      ],
      "execution_count": null,
      "outputs": [
        {
          "output_type": "execute_result",
          "data": {
            "text/plain": [
              "<matplotlib.axes._subplots.AxesSubplot at 0x7f16ba0eea90>"
            ]
          },
          "metadata": {
            "tags": []
          },
          "execution_count": 44
        },
        {
          "output_type": "display_data",
          "data": {
            "image/png": "[encoded data removed]",
            "text/plain": [
              "<Figure size 4800x2400 with 1 Axes>"
            ]
          },
          "metadata": {
            "tags": []
          }
        }
      ]
    },
    {
      "cell_type": "code",
      "metadata": {
        "id": "-U_ZRxXBvjNC"
      },
      "source": [
        ""
      ],
      "execution_count": null,
      "outputs": []
    }
  ]
}